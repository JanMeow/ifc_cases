{
  "nbformat": 4,
  "nbformat_minor": 0,
  "metadata": {
    "colab": {
      "provenance": [],
      "toc_visible": true,
      "include_colab_link": true
    },
    "kernelspec": {
      "name": "python3",
      "display_name": "Python 3"
    },
    "language_info": {
      "name": "python"
    }
  },
  "cells": [
    {
      "cell_type": "markdown",
      "metadata": {
        "id": "view-in-github",
        "colab_type": "text"
      },
      "source": [
        "<a href=\"https://colab.research.google.com/github/JanMeow/ifc_cases/blob/main/UnderstandingIfcopenshell_colab.ipynb\" target=\"_parent\"><img src=\"https://colab.research.google.com/assets/colab-badge.svg\" alt=\"Open In Colab\"/></a>"
      ]
    },
    {
      "cell_type": "markdown",
      "source": [
        "# ifcopenshell-colab\n",
        "\n",
        "Let's start by installing IfcOpenShell. In addition, here are some other libraries that you might find useful. Lark helps parse custom queries, numpy is great for coordinates and matrixes, shapely provides 2D shape analysis, and mathutils provides Vector and Matrix functions."
      ],
      "metadata": {
        "id": "Cmr8OBzECmiG"
      }
    },
    {
      "cell_type": "code",
      "execution_count": null,
      "metadata": {
        "id": "sKmztOKUAnl3",
        "colab": {
          "base_uri": "https://localhost:8080/"
        },
        "outputId": "916f9008-449c-4ad8-c5f4-03eef3521bec"
      },
      "outputs": [
        {
          "output_type": "stream",
          "name": "stdout",
          "text": [
            "Collecting lark\n",
            "  Downloading lark-1.2.2-py3-none-any.whl.metadata (1.8 kB)\n",
            "Downloading lark-1.2.2-py3-none-any.whl (111 kB)\n",
            "\u001b[?25l   \u001b[90m━━━━━━━━━━━━━━━━━━━━━━━━━━━━━━━━━━━━━━━━\u001b[0m \u001b[32m0.0/111.0 kB\u001b[0m \u001b[31m?\u001b[0m eta \u001b[36m-:--:--\u001b[0m\r\u001b[2K   \u001b[90m━━━━━━━━━━━━━━━━━━━━━━━━━━━━━━━━━━━━━━━━\u001b[0m \u001b[32m111.0/111.0 kB\u001b[0m \u001b[31m3.5 MB/s\u001b[0m eta \u001b[36m0:00:00\u001b[0m\n",
            "\u001b[?25hInstalling collected packages: lark\n",
            "Successfully installed lark-1.2.2\n",
            "Requirement already satisfied: numpy in /usr/local/lib/python3.11/dist-packages (1.26.4)\n",
            "Requirement already satisfied: shapely in /usr/local/lib/python3.11/dist-packages (2.0.6)\n",
            "Requirement already satisfied: numpy<3,>=1.14 in /usr/local/lib/python3.11/dist-packages (from shapely) (1.26.4)\n",
            "Collecting mathutils\n",
            "  Downloading mathutils-3.3.0.tar.gz (245 kB)\n",
            "\u001b[2K     \u001b[90m━━━━━━━━━━━━━━━━━━━━━━━━━━━━━━━━━━━━━━━━\u001b[0m \u001b[32m245.4/245.4 kB\u001b[0m \u001b[31m4.7 MB/s\u001b[0m eta \u001b[36m0:00:00\u001b[0m\n",
            "\u001b[?25h  Preparing metadata (setup.py) ... \u001b[?25l\u001b[?25hdone\n",
            "Building wheels for collected packages: mathutils\n",
            "  Building wheel for mathutils (setup.py) ... \u001b[?25l\u001b[?25hdone\n",
            "  Created wheel for mathutils: filename=mathutils-3.3.0-cp311-cp311-linux_x86_64.whl size=669889 sha256=2c80b0efe6507a38b6675c6a42d16695d661d56b4416b4c45a832161fc39c2ac\n",
            "  Stored in directory: /root/.cache/pip/wheels/49/bb/9e/86bd4d162535e81c0f80c64918acf23d920ed0123430d5b4a0\n",
            "Successfully built mathutils\n",
            "Installing collected packages: mathutils\n",
            "Successfully installed mathutils-3.3.0\n",
            "Collecting ifcopenshell\n",
            "  Downloading ifcopenshell-0.8.0-py311-none-manylinux_2_31_x86_64.whl.metadata (11 kB)\n",
            "Requirement already satisfied: shapely in /usr/local/lib/python3.11/dist-packages (from ifcopenshell) (2.0.6)\n",
            "Requirement already satisfied: numpy in /usr/local/lib/python3.11/dist-packages (from ifcopenshell) (1.26.4)\n",
            "Collecting isodate (from ifcopenshell)\n",
            "  Downloading isodate-0.7.2-py3-none-any.whl.metadata (11 kB)\n",
            "Requirement already satisfied: python-dateutil in /usr/local/lib/python3.11/dist-packages (from ifcopenshell) (2.8.2)\n",
            "Requirement already satisfied: lark in /usr/local/lib/python3.11/dist-packages (from ifcopenshell) (1.2.2)\n",
            "Requirement already satisfied: typing-extensions in /usr/local/lib/python3.11/dist-packages (from ifcopenshell) (4.12.2)\n",
            "Requirement already satisfied: six>=1.5 in /usr/local/lib/python3.11/dist-packages (from python-dateutil->ifcopenshell) (1.17.0)\n",
            "Downloading ifcopenshell-0.8.0-py311-none-manylinux_2_31_x86_64.whl (41.2 MB)\n",
            "\u001b[2K   \u001b[90m━━━━━━━━━━━━━━━━━━━━━━━━━━━━━━━━━━━━━━━━\u001b[0m \u001b[32m41.2/41.2 MB\u001b[0m \u001b[31m9.5 MB/s\u001b[0m eta \u001b[36m0:00:00\u001b[0m\n",
            "\u001b[?25hDownloading isodate-0.7.2-py3-none-any.whl (22 kB)\n",
            "Installing collected packages: isodate, ifcopenshell\n",
            "Successfully installed ifcopenshell-0.8.0 isodate-0.7.2\n"
          ]
        }
      ],
      "source": [
        "!pip install lark\n",
        "!pip install numpy\n",
        "!pip install shapely\n",
        "!pip install mathutils\n",
        "!pip install ifcopenshell"
      ]
    },
    {
      "cell_type": "markdown",
      "source": [
        "Let's import IfcOpenShell to get started."
      ],
      "metadata": {
        "id": "1-8dvjb2C5dw"
      }
    },
    {
      "cell_type": "code",
      "source": [
        "import ifcopenshell"
      ],
      "metadata": {
        "id": "ltWVeLqrAskk"
      },
      "execution_count": null,
      "outputs": []
    },
    {
      "cell_type": "markdown",
      "source": [
        "We can download a sample model."
      ],
      "metadata": {
        "id": "w0PA1Je3CWK8"
      }
    },
    {
      "cell_type": "code",
      "source": [
        "import requests\n",
        "\n",
        "r = requests.get(\"https://www.ifcwiki.org/images/e/e3/AC20-FZK-Haus.ifc\")\n",
        "with open(\"model.ifc\", \"w\") as f:\n",
        "    f.write(r.text)"
      ],
      "metadata": {
        "id": "hNmyZCwJA6eT"
      },
      "execution_count": null,
      "outputs": []
    },
    {
      "cell_type": "markdown",
      "source": [
        "Let's get started and analyse our model!"
      ],
      "metadata": {
        "id": "uC3oeyjcD5S0"
      }
    },
    {
      "cell_type": "code",
      "source": [
        "import ifcopenshell.util\n",
        "import ifcopenshell.util.element\n",
        "\n",
        "model = ifcopenshell.open(\"model.ifc\") # Load our IFC model\n",
        "\n",
        "print(model.schema) # What's the IFC version?\n",
        "print(len(model.by_type(\"IfcWall\"))) # How many walls are there?\n",
        "\n",
        "wall = model.by_type(\"IfcWall\")[0] # Grab an arbitrary wall\n",
        "print(ifcopenshell.util.element.get_psets(wall)) # Get the properties of this particular wall"
      ],
      "metadata": {
        "colab": {
          "base_uri": "https://localhost:8080/"
        },
        "id": "KUGWL4gJA7_i",
        "outputId": "8a37315e-453e-41dc-9737-081deb73d17b"
      },
      "execution_count": null,
      "outputs": [
        {
          "output_type": "stream",
          "name": "stdout",
          "text": [
            "IFC4\n",
            "13\n",
            "{'Pset_WallCommon': {'ThermalTransmittance': 1.5, 'id': 15079}, 'AC_Pset_Name': {'Name': 'Wand-Int-ERDG-4', 'id': 15087}, 'ArchiCADProperties': {'Komplette Element-ID': 'Wand-Int-ERDG-4', 'Kompakte Element-ID': 'Wand-Int-ERDG-4', 'Name des Sachmerkmal-Objekts': '', 'Ursprungsgeschoss': 'Erdgeschoss', 'Raumname': 'Wohnen', 'Raumnummer': '5', 'Ebene': 'Innenwände', 'Typ': 'Wand', 'Geschützt': False, 'Baustoff / Mehrschichtiger Aufbau / Profil / Schraffur': 'Leichtbeton 102890359', 'Etikettentext': '', 'Eindeutige ID': 'BC6F0F70-6195-495E-A2FC-239713029DB1', 'Verknüpfte Änderungen': '', 'Tragende Funktion': 'Nicht definiert', 'Lage': 'Nicht definiert', 'Element-Klassifizierung': 'Wand', 'Umbau-Status': 'Bestand', 'Anzeigen auf Umbau-Filter': 'Alle relevanten Filter', 'Struktur - Typ': 'Einfach', 'ARCHICAD IFC ID': '2XPyKWY018sA1ygZKgQPtU', 'Externe IFC ID': '', 'Baustoff/Mehrschicht/Profil': 'Leichtbeton 102890359', 'Außenseite Oberfläche': 'Anstrich', 'Innenseite Oberfläche': 'Anstrich', 'Oberfläche Kante': 'Anstrich', 'Äußerer Neigungswinkel': 90.0, 'Innerer Neigungswinkel': 90.0, 'Wand Neigungstyp': 'gerade', 'Lage der Referenzlinie': 'Außen', 'Geschoss für Oberkantenverknüpfung': 'Nicht verknüpft', 'Geometriemethode': 'Uni', 'id': 15124}, 'BaseQuantities': {'Length': 4.17, 'Height': 2.5, 'Width': 0.24, 'GrossFootprintArea': 1.0008, 'NetFootprintArea': 1.0008, 'GrossSideArea': 10.425, 'NetSideArea': 10.425, 'GrossVolume': 2.49624, 'NetVolume': 2.49624, 'id': 15169}, 'ArchiCADQuantities': {'Höhenangabe zum Projekt-Nullpunkt': 0.0, 'Höhe zu Geschoss': 0.0, 'Höhe': 2.5, 'Oberflächenbereich': 10.125, 'Netto-Volumen': 2.49624, 'Fläche': 1.0008, 'Dicke': 0.24, 'Wandlänge an der Außenseite': 4.05, 'Wandlänge an der Innenseite': 4.29, 'Netto-Oberflächenbereich an der Außenseite': 10.125, 'Netto-Oberflächenbereich an der Innenseite': 10.725, 'Netto-Oberflächenbereich an den Kanten': 3.35824588643, 'Konditionales Volumen': 2.49624, 'Anzahl der Türen': 0.0, 'Anzahl der Fenster': 0.0, 'Anzahl der Durchbrüche (Anzahl der leeren Öffnungen)': 0.0, 'Anzahl der Stützen': 0.0, 'Kombinierte Breite der Türen': 0.0, 'Kombinierte Breite der Fenster': 0.0, 'Wandstärke am Ende': 0.24, 'Minimale Höhe der Wand': 2.26, 'Maximale Höhe der Wand': 2.5, 'Länge der Wand in der Achse': 4.17, 'Fläche der Wand': 1.0008, 'Umfang der Wand': 8.91941125497, 'Brutto-Wandoberflächenbereich an der Innenseite': 10.725, 'Brutto-Wandoberflächenbereich an der Außenseite': 10.125, 'Brutto-Volumen der Wand ': 2.502, 'Analytische Oberfläche der Öffnungen an der Innenseite': 0.0, 'Analytische Oberfläche der Öffnungen an der Außenseite': 0.0, 'Analytisches Volumen der Öffnungen in der Wand': 0.0, 'Wand-Schichtdicke an der Außenseite': 0.0, 'Wand-Schichtdicke an der Innenseite': 0.0, 'Dämmungsschichtdicke': 0.0, 'Luftschichtdicke': 0.0, 'Minimale Höhe der Wandschicht an der Außenseite': 0.0, 'Maximale Höhe der Wandschicht an der Außenseite': 0.0, 'Minimale Höhe der Wandschicht an der Innenseite': 0.0, 'Maximale Höhe der Wandschicht an der Innenseite': 0.0, 'Konditionale Länge an der Außenseite': 4.05, 'Konditionale Länge an der Innenseite': 4.29, 'Konditionaler Oberflächenbereich an der Außenseite': 10.125, 'Konditionaler Oberflächenbereich an der Innenseite': 10.725, 'Wand-Schichtvolumen an der Außenseite': 0.0, 'Wand-Schichtvolumen an der Innenseite': 0.0, 'Konditionales Schichtvolumen an der Außenseite': 0.0, 'Konditionales Wand-Schichtvolumen an der Innenseite': 0.0, 'Länge der Referenzlinie': 4.59, 'Abstand zu Ursprungsgeschoss': 0.0, 'Abstand Oberkante': 0.0, 'Durchschnittliche Länge': 4.17, 'Oberflächenbereich der Fenster in der Wand': 0.0, 'Oberflächenbereich der Türen in der Wand': 0.0, 'Oberflächenbereich der leeren Öffnungen in der Wand': 0.0, 'Volumen der Stützen': 0.0, 'id': 15229}}\n"
          ]
        }
      ]
    },
    {
      "cell_type": "markdown",
      "source": [
        "Typically most ifc components with geometrical properties are inherited from ifc Product\n",
        "\n",
        "<img src=\"https://standards.buildingsmart.org/IFC/RELEASE/IFC4/ADD1/HTML/diagrams/ifcspatialstructureelement.png\" style=\"max-width:80%;\" />\n",
        "\n"
      ],
      "metadata": {
        "id": "p3U2-a640nZn"
      }
    },
    {
      "cell_type": "code",
      "source": [
        "# Iterate through all entities in the IFC file\n",
        "# all ifc class are subclass of IFC product in IFC 4\n",
        "for element in model.by_type(\"IfcProduct\")[0:100:5]:\n",
        "    print(element.is_a()) #print the type of each element\n",
        "    # print(element.GlobalId) #print the GlobalId of each element\n",
        "\n",
        "print(len(model.by_type(\"IfcProduct\")))"
      ],
      "metadata": {
        "colab": {
          "base_uri": "https://localhost:8080/"
        },
        "id": "fD0rAey6ZhLm",
        "outputId": "4272a94a-72cf-49ee-a061-81e7f6ddebd4"
      },
      "execution_count": null,
      "outputs": [
        {
          "output_type": "stream",
          "name": "stdout",
          "text": [
            "IfcAnnotation\n",
            "IfcAnnotation\n",
            "IfcAnnotation\n",
            "IfcBeam\n",
            "IfcDoor\n",
            "IfcMember\n",
            "IfcMember\n",
            "IfcMember\n",
            "IfcMember\n",
            "IfcMember\n",
            "IfcMember\n",
            "IfcMember\n",
            "IfcMember\n",
            "IfcRailing\n",
            "IfcSlab\n",
            "IfcWallStandardCase\n",
            "IfcWallStandardCase\n",
            "IfcWindow\n",
            "IfcWindow\n",
            "IfcWindow\n",
            "127\n"
          ]
        }
      ]
    },
    {
      "cell_type": "code",
      "source": [
        "import ifcopenshell.geom\n",
        "import ifcopenshell.util.shape\n",
        "\n",
        "\n",
        "settings = ifcopenshell.geom.settings()\n",
        "\n",
        "for wall in model.by_type(\"ifcwall\")[0:2]:\n",
        " shape = ifcopenshell.geom.create_shape(settings, wall)\n",
        " shape_matrix = ifcopenshell.util.shape.get_shape_matrix(shape)\n",
        " grouped_verts = ifcopenshell.util.shape.get_vertices(shape.geometry)\n",
        " print(shape_matrix)\n",
        "#  print(grouped_verts)"
      ],
      "metadata": {
        "colab": {
          "base_uri": "https://localhost:8080/"
        },
        "id": "JXXCCaUWbEEt",
        "outputId": "4b718515-263b-447b-c340-7f6fd5a04531"
      },
      "execution_count": null,
      "outputs": [
        {
          "output_type": "stream",
          "name": "stdout",
          "text": [
            "[[1.   0.   0.   7.41]\n",
            " [0.   1.   0.   4.25]\n",
            " [0.   0.   1.   0.  ]\n",
            " [0.   0.   0.   1.  ]]\n",
            "[[ 0.    1.    0.    7.41]\n",
            " [-1.    0.    0.   10.  ]\n",
            " [ 0.    0.    1.    0.  ]\n",
            " [ 0.    0.    0.    1.  ]]\n"
          ]
        }
      ]
    },
    {
      "cell_type": "code",
      "source": [
        "settings = ifcopenshell.geom.settings()\n",
        "\n",
        "for wall in model.by_type(\"ifcwall\")[0:1]:\n",
        "  shape = ifcopenshell.geom.create_shape(settings, wall)\n",
        "  grouped_verts  = ifcopenshell.util.shape.get_vertices(shape.geometry)\n",
        "  print(grouped_verts)\n",
        "  grouped_edges = ifcopenshell.util.shape.get_edges(shape.geometry)\n",
        "  print(grouped_edges)"
      ],
      "metadata": {
        "colab": {
          "base_uri": "https://localhost:8080/"
        },
        "id": "-npPvCNY9Hg0",
        "outputId": "3b354f3c-d35f-490b-a5c4-13854b9998bf"
      },
      "execution_count": null,
      "outputs": [
        {
          "output_type": "stream",
          "name": "stdout",
          "text": [
            "[[ 0.   -0.24  0.  ]\n",
            " [ 0.   -0.24  2.5 ]\n",
            " [ 4.29 -0.24  2.5 ]\n",
            " [ 4.29 -0.24  0.  ]\n",
            " [ 4.29  0.    2.5 ]\n",
            " [ 4.29  0.    0.  ]\n",
            " [ 0.24  0.    2.5 ]\n",
            " [ 0.24  0.    0.  ]]\n",
            "[[0 1]\n",
            " [0 3]\n",
            " [1 2]\n",
            " [2 3]\n",
            " [2 4]\n",
            " [3 5]\n",
            " [4 5]\n",
            " [4 6]\n",
            " [5 7]\n",
            " [6 7]\n",
            " [0 7]\n",
            " [1 6]]\n"
          ]
        }
      ]
    },
    {
      "cell_type": "markdown",
      "source": [
        "\n",
        "\n",
        "```\n",
        "Below is the typical hierachy of an IFC project\n",
        "\n",
        "IfcProject\n",
        " └── IfcSite (Site1)\n",
        "      ├── IfcBuilding (Building1)\n",
        "      │    ├── IfcBuildingStorey (Storey1)\n",
        "      │    └── IfcBuildingStorey (Storey2)\n",
        "      └── IfcBuilding (Building2)\n",
        "Here Site has the propery of IsDecomposedBy which will give the childs\n",
        "One can traverse the tree using .IsDecomposedBy which resolves in a relatonal instance e.g ifcRelAggregates, then one can call again .RelatedObjects for all related childs.\n",
        "\n",
        "\n",
        "```\n",
        "\n"
      ],
      "metadata": {
        "id": "xLzIP1GArsDj"
      }
    },
    {
      "cell_type": "markdown",
      "source": [
        "\n",
        "<img src=\"https://standards.buildingsmart.org/IFC/RELEASE/IFC4/ADD1/HTML/figures/ifcspatialstructureelement-spatialstructure.png\" style=\"max-width:60%;\" />\n",
        "\n"
      ],
      "metadata": {
        "id": "Z7Z-JI6Sx3KY"
      }
    },
    {
      "cell_type": "code",
      "source": [
        "# Iterate through the IFC spatial structure  Project> Site > Building > Storey\n",
        "\n",
        "def dfs_traverse(base_node, max_depth = 100, depth=0, list_contained_elements = True):\n",
        "\n",
        "  \"\"\"\n",
        "  This function is still in testing ***\n",
        "\n",
        "  Note that not all child has the property IsDecomposedBy\n",
        "  The highest level with this property is ifcSite,\n",
        "  So ideally Site would be the starting note to traverse\n",
        "\n",
        "  Might need to also add a set to avoid cycle by remembering the nodes visited\n",
        "\n",
        "  I noticed that as in IfcSpace.IsDecomposedBy, it often returns an empty tuple\n",
        "  as it is the leaf Node and apprently other building elements are not as a child of Ifc building storey\n",
        "  but BIM viewer show that it has childs huh?\n",
        "\n",
        "  Apprently, each level it has ContainElements and IsDecomposedBy\n",
        "  so as you traverse you need to check if it also has contain elements in that level LOL\n",
        "\n",
        "  while sometimes it has an empty set as the value for .RelatedObject\n",
        "  sometimes it has no such attribute in .ContainedElement\n",
        "  \"\"\"\n",
        "\n",
        "  print(f\"CURRENT DEPTH : {depth} [TYPE] {base_node.is_a()} [GUID] ({base_node.GlobalId}) [NAME] {base_node.Name}\")\n",
        "\n",
        "  if depth > max_depth:\n",
        "    print(\"Max_depth is reached\")\n",
        "    return\n",
        "  if not hasattr(base_node, \"IsDecomposedBy\"):\n",
        "    print(\"Node does not have attribute IsDecomposedBy\")\n",
        "    return\n",
        "\n",
        "\n",
        "  # Since the elements e.g columns and wall contained are (surprinsingly) not as part of the spatial hierachy\n",
        "  if hasattr(base_node, \"ContainsElements\") and len(base_node.ContainsElements) != 0:\n",
        "    # for element, one need to use .RelatedElement to iterate through it lol\n",
        "    for element_rel in base_node.ContainsElements:\n",
        "      print(f\"Number of contained elements: {len(element_rel.RelatedElements)}\")\n",
        "\n",
        "      if list_contained_elements:\n",
        "        for child_element in element_rel.RelatedElements:\n",
        "          dfs_traverse(child_element, max_depth, depth = depth, list_contained_elements=list_contained_elements)\n",
        "\n",
        "\n",
        "\n",
        "  # Turns out IsDecomposedBy depict more of a spatial hierachy\n",
        "  for child_rel in base_node.IsDecomposedBy:\n",
        "    print(f\"Number of child: {len(child_rel.RelatedObjects)}\")\n",
        "    for child_obj in child_rel.RelatedObjects:\n",
        "      dfs_traverse(child_obj, max_depth, depth = depth +1, list_contained_elements=list_contained_elements)\n"
      ],
      "metadata": {
        "id": "a7o6bRqVnJM3"
      },
      "execution_count": null,
      "outputs": []
    },
    {
      "cell_type": "code",
      "source": [
        "site = model.by_type(\"ifcsite\")[0]\n",
        "\n",
        "dfs_traverse(site, max_depth =3, depth = 0, list_contained_elements= False)"
      ],
      "metadata": {
        "id": "6deaJRYtooXs",
        "colab": {
          "base_uri": "https://localhost:8080/"
        },
        "outputId": "7df2a191-721e-4c2f-f8ac-41e0d1f7aff4"
      },
      "execution_count": null,
      "outputs": [
        {
          "output_type": "stream",
          "name": "stdout",
          "text": [
            "CURRENT DEPTH : 0 [TYPE] IfcSite [GUID] (0KMpiAlnb52RgQuM1CwVfd) [NAME] Gelaende\n",
            "Number of child: 1\n",
            "CURRENT DEPTH : 1 [TYPE] IfcBuilding [GUID] (2hQBAVPOr5VxhS3Jl0O47h) [NAME] FZK-Haus\n",
            "Number of child: 2\n",
            "CURRENT DEPTH : 2 [TYPE] IfcBuildingStorey [GUID] (2eyxpyOx95m90jmsXLOuR0) [NAME] Erdgeschoss\n",
            "Number of contained elements: 38\n",
            "Number of child: 6\n",
            "CURRENT DEPTH : 3 [TYPE] IfcSpace [GUID] (347jFE2yX7IhCEIALmupEH) [NAME] 4\n",
            "CURRENT DEPTH : 3 [TYPE] IfcSpace [GUID] (0e_hbkIQ5DMQlIJ$2V3j_m) [NAME] 3\n",
            "CURRENT DEPTH : 3 [TYPE] IfcSpace [GUID] (2RSCzLOBz4FAK$_wE8VckM) [NAME] 2\n",
            "CURRENT DEPTH : 3 [TYPE] IfcSpace [GUID] (0Lt8gR_E9ESeGH5uY_g9e9) [NAME] 5\n",
            "CURRENT DEPTH : 3 [TYPE] IfcSpace [GUID] (3$f2p7VyLB7eox67SA_zKE) [NAME] 1\n",
            "CURRENT DEPTH : 3 [TYPE] IfcSpace [GUID] (17JZcMFrf5tOftUTidA0d3) [NAME] 6\n",
            "CURRENT DEPTH : 2 [TYPE] IfcBuildingStorey [GUID] (273g3wqLzDtfYIl7qqkgcO) [NAME] Dachgeschoss\n",
            "Number of contained elements: 58\n",
            "Number of child: 1\n",
            "CURRENT DEPTH : 3 [TYPE] IfcSpace [GUID] (2dQFggKBb1fOc1CqZDIDlx) [NAME] 7\n"
          ]
        }
      ]
    },
    {
      "cell_type": "code",
      "source": [
        "IfcBuildingStorey = model.by_type(\"IfcBuildingStorey\")[0]\n",
        "contained_elements = IfcBuildingStorey.ContainsElements\n",
        "print(contained_elements)\n",
        "print(contained_elements[0].RelatedElements)\n",
        "print(IfcBuildingStorey.IsDecomposedBy)"
      ],
      "metadata": {
        "colab": {
          "base_uri": "https://localhost:8080/"
        },
        "id": "hfMIuoFR_NUr",
        "outputId": "ef5ddd34-02c2-4719-a52f-0c5ad3e9c284"
      },
      "execution_count": null,
      "outputs": [
        {
          "output_type": "stream",
          "name": "stdout",
          "text": [
            "(#14517=IfcRelContainedInSpatialStructure('13J1BKcWxmCqHLM0nJ4nFJ',#12,$,$,(#14502,#15042,#15372,#15848,#16507,#16982,#17040,#17468,#18407,#18465,#18698,#19199,#19504,#20069,#20268,#20299,#20329,#20374,#20598,#20808,#21966,#23024,#23944,#27013,#27421,#27833,#28113,#31079,#31470,#31818,#32098,#32407,#32829,#33109,#33389,#33672,#34509,#35053),#479),)\n",
            "(#14502=IfcStair('38a9vdh9bF5Qg28GWyHhlr',#12,'Wendeltreppe',$,$,#502,#14498,'79A67A01-C95B-4209-86-9A-74983B65305C',$), #15042=IfcWallStandardCase('2XPyKWY018sA1ygZKgQPtU',#12,'Wand-Int-ERDG-4',$,$,#14983,#15037,'BC6F0F70-6195-495E-A2-FC-239713029DB1',$), #15372=IfcAnnotation('2TSghi3E94BuNE_F6jBcWe',#12,$,$,$,#15264,#15369), #15848=IfcAnnotation('0j7WClqLTB0gkHE605BLnY',#12,$,$,$,#15384,#15845), #16507=IfcAnnotation('3BTqRqk7D5EhoEfLy$YPgs',#12,$,$,$,#15859,#16504), #16982=IfcAnnotation('11pyNSTMP9zfUCy679gsvT',#12,$,$,$,#16518,#16979), #17040=IfcWallStandardCase('3PfS__Y_DBAfq5naM6zD2Z',#12,'Wand-Int-ERDG-2',$,$,#16993,#17035,'40F78310-9E7E-4793-BC-9E-DB102FD72B73',$), #17468=IfcDoor('1Oms875aH3Wg$9l65H2ZGw',#12,'Innentuer-1',$,$,#17302,#17464,'E605AACB-6C4E-458D-93-46-5D9D8C7C21D3',2.01,0.885,$,$,$), #18407=IfcAnnotation('3YZcx3Gb58SwNRLuheFOxL',#12,$,$,$,#17759,#18404), #18465=IfcWallStandardCase('2ptk1k7qn8_Qk22vjh$0DE',#12,'Wand-Int-ERDG-1',$,$,#18418,#18460,'8C826359-B394-49D6-BD-D5-49D50F806B56',$), #18698=IfcWallStandardCase('3jjW3rL656ex34Gws22EfM',#12,'Wand-Int-ERDG-3',$,$,#18651,#18693,'2197C9B9-DEF1-444F-B8-1E-1DB092762AB7',$), #19199=IfcDoor('0pGAjlJMP3ifYPATVF5xAR',#12,'Innentuer-2',$,$,#19029,#19195,'CBFAA406-7368-4C3F-96-65-F3ED0FC60C2F',2.01,0.885,$,$,$), #19504=IfcDoor('2qiPPF3FrF8OIqfrKiSUqm',#12,'Innentuer-3',$,$,#19486,#19500,'12291272-8C4D-42C2-A4-E5-68086A355C33',2.01,0.885,$,$,$), #20069=IfcAnnotation('0dGzbiP6H1sPcT0NmqaFGO',#12,$,$,$,#19789,#20066), #20268=IfcAnnotation('2Ml9lHXiTBN8zH$beU1ns5',#12,$,$,$,#20080,#20265), #20299=IfcAnnotation('2HtybvLgf93veGIhadqbJ9',#12,$,$,$,#20279,#20296), #20329=IfcAnnotation('1WAtLpg_nDBxKhzIXT_jnH',#12,$,$,$,#20310,#20326), #20374=IfcBeam('3tCgZT92j6fw8fXgwCL3Jm',#12,'Unterzug-1',$,'Radial Gradient Fill 1515460218 200 x 240',#20340,#20370,'EAFC436F-7CDC-482B-8B-93-5FDB86D941A9',$), #20598=IfcWallStandardCase('1$wmdwWPjDYuku_ghVkynE',#12,'Wand-Int-ERDG-5',$,$,#20551,#20593,'623FF5CC-008F-4D9B-BE-AC-E81A16C53080',$), #20808=IfcAnnotation('1TKECZOIj9cBBj4ne6lhuA',#12,$,$,$,#20784,#20805), #21966=IfcWallStandardCase('3rPX_Juz59peXXY6wDJl18',#12,'Wand-Ext-ERDG-1',$,$,#21917,#21961,'BEF1E630-DE4B-41C5-AD-66-B87F1A8D67A1',$), #23024=IfcWindow('1srAI$R4T8ihLXSNHmUSET',#12,'EG-Fenster-6',$,$,#22372,#23020,'2872C43C-81BB-4535-95-65-B3AC3FB4DE23',1.2,2.,$,$,$), #23944=IfcWindow('0B1RwEzzP3CfME5NR$Vqh5',#12,'EG-Fenster-7',$,$,#23298,#23940,'E5AC7902-7454-439D-AF-DD-A1E5E37A0D08',1.2,2.,$,$,$), #27013=IfcDoor('2jTRqchjf7oB0yhQ6462T0',#12,'Haustuer',$,$,#24218,#27009,'3CAFB746-2204-4C6C-BF-ED-F5FE276FA162',2.01,1.01,$,$,$), #27421=IfcWallStandardCase('16DNNqzfP2thtfaOflvsKA',#12,'Wand-Ext-ERDG-4',$,$,#27374,#27416,'A6C3DE63-3731-4F6A-94-7E-DE8A8295779F',$), #27833=IfcWindow('25nJxEpYf8LRDJNkMUVO0m',#12,'EG-Fenster-4',$,$,#27815,#27829,'436D2D20-7879-42FD-A7-70-F2BECB09D642',1.2,2.,$,$,$), #28113=IfcWindow('3BFcylCsX74PQAoRAe5fNv',#12,'EG-Fenster-5',$,$,#28095,#28109,'EE544359-8729-43CD-AE-E2-4BB37935CFDA',1.2,2.,$,$,$), #31079=IfcDoor('1M$gxUrX1Fiwe3P64ww7U5',#12,'Terrassentuer',$,$,#28375,#31075,'AA410C09-759E-446C-95-DA-CF8531C8625F',2.375,2.01,$,$,$), #31470=IfcWallStandardCase('25fsbPyk15VvuXI$yNKenK',#12,'Wand-Ext-ERDG-3',$,$,#31423,#31465,'D1BD94FD-C699-41C5-B0-98-57167561802A',$), #31818=IfcWindow('13aSY79zb8fP4HApEJ0z_e',#12,'EG-Fenster-8',$,$,#31800,#31814,'8FAFF59C-23BB-48D6-9C-CE-C4F804C53C9A',1.2,2.,$,$,$), #32098=IfcWindow('2EQh_jhP1B_A_AMuSJc5E0',#12,'EG-Fenster-9',$,$,#32080,#32094,'A896A1CB-16B1-4CCD-A5-98-F5C5BC0C37DE',1.2,2.,$,$,$), #32407=IfcWallStandardCase('1bzfVsJqn8De5PukCrqylz',#12,'Wand-Ext-ERDG-2',$,$,#32360,#32402,'74EAE11D-EA09-459E-92-62-5370AED48E8E',$), #32829=IfcWindow('1TAI4ouKX4Xx4lBDZIu5qM',#12,'EG-Fenster-1',$,$,#32811,#32825,'EAC2BE5E-BCD2-474E-95-24-57C652F96BF7',1.2,2.,$,$,$), #33109=IfcWindow('2Q9w7oRXP249jBobEMVqlZ',#12,'EG-Fenster-2',$,$,#33091,#33105,'84B24574-B3EE-412A-A4-33-CE7E10ED2A8D',1.2,2.,$,$,$), #33389=IfcWindow('1DiYqhfzH9xxuJdVHwXCNa',#12,'EG-Fenster-3',$,$,#33371,#33385,'EDE1E333-3D1C-441D-BE-45-790DF31E9DDC',1.2,2.,$,$,$), #33672=IfcAnnotation('0CWpGkM7zEROS7WsgthNfA',#12,$,$,$,#33651,#33669), #34509=IfcSlab('1pPHnf7cXCpPsNEnQf8_6B',#12,'Bodenplatte',$,$,#34464,#34505,'E4D9CD4B-CA43-4735-94-BD-1FD4376BD455',.BASESLAB.), #35053=IfcAnnotation('1fzvgX3pDB88Tz63VWPBLu',#12,$,$,$,#35036,#35050))\n",
            "(#20914=IfcRelAggregates('3XwAdBXgnd6wCOt6sYCOEg',#12,$,$,#479,(#20909,#21283,#21640,#33774,#34191,#34763)),)\n"
          ]
        }
      ]
    },
    {
      "cell_type": "code",
      "source": [
        "# Iterate through the IFC spatial structure  Project> Site > Building > Storey\n",
        "from collections import deque\n",
        "\n",
        "\n",
        "def bfs_traverse(base_node, list_contained_elements = True):\n",
        "\n",
        "\n",
        "  queue = deque([base_node])\n",
        "  depth = 0\n",
        "\n",
        "  while len(queue) !=0 :\n",
        "\n",
        "    current_node = queue.popleft()\n",
        "    print(f\"CURRENT DEPTH : {depth} [TYPE] {current_node.is_a()} [GUID] ({current_node.GlobalId}) [NAME] {current_node.Name}\")\n",
        "\n",
        "\n",
        "    if hasattr(current_node, \"ContainsElements\") and len(current_node.ContainsElements) != 0:\n",
        "      for element_rel in current_node.ContainsElements:\n",
        "        print(f\"Contained Elements: {len(element_rel.RelatedElements)}\")\n",
        "        if list_contained_elements:\n",
        "          for child_element in element_rel.RelatedElements:\n",
        "            queue.append(child_element)\n",
        "\n",
        "    if hasattr(current_node, \"IsDecomposedBy\") and len(current_node.IsDecomposedBy) != 0:\n",
        "      depth +=1\n",
        "      for child_rel in current_node.IsDecomposedBy:\n",
        "        print(f\"Number of child: {len(child_rel.RelatedObjects)}\")\n",
        "        for child_obj in child_rel.RelatedObjects:\n",
        "          queue.append(child_obj)\n",
        "\n",
        "\n",
        "\n",
        "  print(\"Function ended, No more spatial child\")\n",
        "\n"
      ],
      "metadata": {
        "id": "pI1VBV9v5H9k"
      },
      "execution_count": null,
      "outputs": []
    },
    {
      "cell_type": "code",
      "source": [
        "site = model.by_type(\"ifcproject\")[0]\n",
        "bfs_traverse(site, list_contained_elements = False)"
      ],
      "metadata": {
        "colab": {
          "base_uri": "https://localhost:8080/"
        },
        "id": "auH8mRhLqLuQ",
        "outputId": "dc64edf6-a81c-477b-e8e6-e936bda9b3cc"
      },
      "execution_count": null,
      "outputs": [
        {
          "output_type": "stream",
          "name": "stdout",
          "text": [
            "CURRENT DEPTH : 0 [TYPE] IfcProject [GUID] (0lY6P5Ur90TAQnnnI6wtnb) [NAME] Projekt-FZK-Haus\n",
            "Number of child: 1\n",
            "CURRENT DEPTH : 1 [TYPE] IfcSite [GUID] (0KMpiAlnb52RgQuM1CwVfd) [NAME] Gelaende\n",
            "Number of child: 1\n",
            "CURRENT DEPTH : 2 [TYPE] IfcBuilding [GUID] (2hQBAVPOr5VxhS3Jl0O47h) [NAME] FZK-Haus\n",
            "Number of child: 2\n",
            "CURRENT DEPTH : 3 [TYPE] IfcBuildingStorey [GUID] (2eyxpyOx95m90jmsXLOuR0) [NAME] Erdgeschoss\n",
            "Contained Elements: 38\n",
            "Number of child: 6\n",
            "CURRENT DEPTH : 4 [TYPE] IfcBuildingStorey [GUID] (273g3wqLzDtfYIl7qqkgcO) [NAME] Dachgeschoss\n",
            "Contained Elements: 58\n",
            "Number of child: 1\n",
            "CURRENT DEPTH : 5 [TYPE] IfcSpace [GUID] (347jFE2yX7IhCEIALmupEH) [NAME] 4\n",
            "CURRENT DEPTH : 5 [TYPE] IfcSpace [GUID] (0e_hbkIQ5DMQlIJ$2V3j_m) [NAME] 3\n",
            "CURRENT DEPTH : 5 [TYPE] IfcSpace [GUID] (2RSCzLOBz4FAK$_wE8VckM) [NAME] 2\n",
            "CURRENT DEPTH : 5 [TYPE] IfcSpace [GUID] (0Lt8gR_E9ESeGH5uY_g9e9) [NAME] 5\n",
            "CURRENT DEPTH : 5 [TYPE] IfcSpace [GUID] (3$f2p7VyLB7eox67SA_zKE) [NAME] 1\n",
            "CURRENT DEPTH : 5 [TYPE] IfcSpace [GUID] (17JZcMFrf5tOftUTidA0d3) [NAME] 6\n",
            "CURRENT DEPTH : 5 [TYPE] IfcSpace [GUID] (2dQFggKBb1fOc1CqZDIDlx) [NAME] 7\n",
            "Function ended, No more spatial child\n"
          ]
        }
      ]
    },
    {
      "cell_type": "code",
      "source": [
        "# Now we have constructed a way to travese through the ifc4 tree\n",
        "# We might want to also get all the property of the certain node\n",
        "\n",
        "\n",
        "# Accessing all entities without filtering as some entities are not inheritance of ifc root\n",
        "all_entities = list(model)\n",
        "print(len(all_entities))\n",
        "root = model.by_type(\"ifcproject\")[0]\n",
        "wall = model.by_type(\"ifcwall\")[0]"
      ],
      "metadata": {
        "colab": {
          "base_uri": "https://localhost:8080/"
        },
        "id": "ATBwXHQWqUuI",
        "outputId": "6f138029-95e7-40dc-ff28-c21f8990a638"
      },
      "execution_count": null,
      "outputs": [
        {
          "output_type": "stream",
          "name": "stdout",
          "text": [
            "44249\n"
          ]
        }
      ]
    },
    {
      "cell_type": "code",
      "source": [
        "def traverse_upward(entity):\n",
        "  parents = model.get_inverse(entity)\n",
        "\n",
        "  # Get spatial Relation\n",
        "  if not parents:\n",
        "    return None\n",
        "\n",
        "  for parent in parents:\n",
        "    if parent.is_a() == \"IfcRelAggregates\":\n",
        "      print(parent)\n",
        "      return parent\n",
        "\n",
        "    if parent.is_a() == \"IfcRelContainedInSpatialStructure\":\n",
        "      print(parent)\n",
        "      return parent\n",
        "\n",
        "\n",
        "wall = model.by_type(\"ifcwall\")[0]\n",
        "traverse_upward(wall)"
      ],
      "metadata": {
        "colab": {
          "base_uri": "https://localhost:8080/"
        },
        "id": "F-x9_PMQ0LMQ",
        "outputId": "075141f8-ec9e-4df9-980f-7665bcbbb0c9"
      },
      "execution_count": null,
      "outputs": [
        {
          "output_type": "stream",
          "name": "stdout",
          "text": [
            "#14517=IfcRelContainedInSpatialStructure('13J1BKcWxmCqHLM0nJ4nFJ',#12,$,$,(#14502,#15042,#15372,#15848,#16507,#16982,#17040,#17468,#18407,#18465,#18698,#19199,#19504,#20069,#20268,#20299,#20329,#20374,#20598,#20808,#21966,#23024,#23944,#27013,#27421,#27833,#28113,#31079,#31470,#31818,#32098,#32407,#32829,#33109,#33389,#33672,#34509,#35053),#479)\n"
          ]
        },
        {
          "output_type": "execute_result",
          "data": {
            "text/plain": [
              "#14517=IfcRelContainedInSpatialStructure('13J1BKcWxmCqHLM0nJ4nFJ',#12,$,$,(#14502,#15042,#15372,#15848,#16507,#16982,#17040,#17468,#18407,#18465,#18698,#19199,#19504,#20069,#20268,#20299,#20329,#20374,#20598,#20808,#21966,#23024,#23944,#27013,#27421,#27833,#28113,#31079,#31470,#31818,#32098,#32407,#32829,#33109,#33389,#33672,#34509,#35053),#479)"
            ]
          },
          "metadata": {},
          "execution_count": 14
        }
      ]
    },
    {
      "cell_type": "code",
      "source": [
        "# Originally, I thought I can traverse and write it into .ifc but I was too nairve\n",
        "# Apparently, BIM viwer can only view it when it has a basic file structure like Project>Site>....\n",
        "# According to chatGPT If  IFC file  contains geometry that's already tied to entities (like IfcWall or IfcSlab), the absence of a context doesn't prevent visualization.\n",
        "# context not mandatory for a valid IFC file but is recommended  to define how geometry is represented (e.g., 3D models, plans, etc.).\n",
        "\n",
        "def create_basic_project_strcuture(entity, schema = \"IFC4\", relationship = \"IfcRelAggregates\"):\n",
        "\n",
        "  spatial_hierachy = [\"IfcProject\",\"IfcSite\", \"IfcBuilding\", \"IfcBuildingStorey\"]\n",
        "\n",
        "  # Instantiate a new model\n",
        "  new_model = ifcopenshell.file(schema = schema)\n",
        "\n",
        "  # Get the spatial level of the entity you want to create\n",
        "  spatial_level = entity.is_a()\n",
        "\n",
        "  # Create_basic_skeleton\n",
        "  def create():\n",
        "    prev = None\n",
        "    for item in spatial_hierachy:\n",
        "\n",
        "      if item == \"IfcProject\":\n",
        "        new_spatial_layer = new_model.create_entity(item, GlobalId=ifcopenshell.guid.new(), Name= \"Sample\" + item)\n",
        "        context = new_model.create_entity(\"IfcGeometricRepresentationContext\", ContextType=\"Model\", ContextIdentifier=\"Building Model\")\n",
        "        new_spatial_layer.RepresentationContexts = [context]\n",
        "      else:\n",
        "        new_spatial_layer = new_model.create_entity(item, GlobalId=ifcopenshell.guid.new(), Name= \"Sample\" + item)\n",
        "\n",
        "      if prev != None:\n",
        "        new_relationship = new_model.create_entity(relationship, GlobalId=ifcopenshell.guid.new(), RelatingObject=prev, RelatedObjects=[new_spatial_layer])\n",
        "\n",
        "      prev = new_spatial_layer\n",
        "    return new_model, prev\n",
        "\n",
        "  return create()"
      ],
      "metadata": {
        "id": "2A2YukWz7Eok"
      },
      "execution_count": null,
      "outputs": []
    },
    {
      "cell_type": "code",
      "source": [
        "from typing_extensions import Annotated\n",
        "def create_ifc_for_partial_model(entity, schema = \"IFC4\", write_file = True, file_path = \"new_model.ifc\", save_props = False):\n",
        "\n",
        "\n",
        "  # Create_basic_skeleton\n",
        "  new_model, storey = create_basic_project_strcuture(entity, schema = \"IFC4\", relationship = \"IfcRelAggregates\")\n",
        "\n",
        "  partial_grapth = model.traverse(entity)\n",
        "\n",
        "\n",
        "  # Copying the entities into an object and linking it to the storey level\n",
        "  for i,node in enumerate(partial_grapth):\n",
        "    copied_entity = new_model.add(node)\n",
        "    if i == 0:\n",
        "      root_node = copied_entity\n",
        "\n",
        "    # Traverse does not contain the custom property, so we need to get those also\n",
        "    if save_props and hasattr(node, \"IsDefinedBy\"):\n",
        "      props = node.IsDefinedBy\n",
        "      for prop in props:\n",
        "        new_model.add(prop)\n",
        "\n",
        "  # Linking to the storey level\n",
        "  new_model.create_entity(\n",
        "    \"IfcRelContainedInSpatialStructure\",\n",
        "    GlobalId=ifcopenshell.guid.new(),\n",
        "    RelatingStructure=storey,\n",
        "    RelatedElements=[root_node],\n",
        ")\n",
        "  if write_file:\n",
        "    new_model.write(file_path)\n",
        "\n",
        "  return new_model\n",
        "\n",
        "model = ifcopenshell.open(\"model.ifc\")\n",
        "wall = model.by_type(\"ifcwall\")[0]\n",
        "\n",
        "new_model = create_ifc_for_partial_model(wall)\n",
        "\n",
        "\n",
        "# Lets try traverse through the new model\n",
        "site = new_model.by_type(\"ifcsite\")[0]\n",
        "bfs_traverse(site, max_depth =3, list_contained_elements = True)"
      ],
      "metadata": {
        "colab": {
          "base_uri": "https://localhost:8080/"
        },
        "id": "DIpTbgJv79SA",
        "outputId": "44144d7f-2e50-4f0b-d1fd-d60f8b441a48"
      },
      "execution_count": null,
      "outputs": [
        {
          "output_type": "stream",
          "name": "stdout",
          "text": [
            "CURRENT DEPTH : 0 [TYPE] IfcSite [GUID] (1lZu33ynXCyOEErokZetl7) [NAME] SampleIfcSite\n",
            "Number of child: 1\n",
            "CURRENT DEPTH : 1 [TYPE] IfcBuilding [GUID] (202_ASN1v8neP$s2CAxmce) [NAME] SampleIfcBuilding\n",
            "Number of child: 1\n",
            "CURRENT DEPTH : 2 [TYPE] IfcBuildingStorey [GUID] (1EdZ4hsa5EjxHpmoK91Pm8) [NAME] SampleIfcBuildingStorey\n",
            "Contained Elements: 1\n",
            "CURRENT DEPTH : 2 [TYPE] IfcWallStandardCase [GUID] (2XPyKWY018sA1ygZKgQPtU) [NAME] Wand-Int-ERDG-4\n",
            "Function ended, No more spatial child\n"
          ]
        }
      ]
    },
    {
      "cell_type": "code",
      "source": [
        "# Check the attributes of an entity\n",
        "current_node = model.by_type(\"ifcwall\")[0]\n",
        "\n",
        "# IsDefinedBy gives you\n",
        "print(current_node.IsDefinedBy)\n",
        "\n",
        "\n",
        "for rel in current_node.IsDefinedBy:\n",
        "  print(rel)\n",
        "\n",
        "# List all attributes\n",
        "# current_node.__dir__()"
      ],
      "metadata": {
        "colab": {
          "base_uri": "https://localhost:8080/"
        },
        "id": "cXotGAOFfUUC",
        "outputId": "824013ee-23ea-4d78-9e71-abc7e9bcbb33"
      },
      "execution_count": null,
      "outputs": [
        {
          "output_type": "stream",
          "name": "stdout",
          "text": [
            "(#15082=IfcRelDefinesByProperties('1XHlCNqAFH0tlvMzR6N0fY',#12,$,$,(#15042),#15079), #15090=IfcRelDefinesByProperties('28j1CHGQqsg8bOIv_AhSyO',#12,$,$,(#15042),#15087), #15157=IfcRelDefinesByProperties('16oiHR3wk3Xm_oKuvXa7iw',#12,$,$,(#15042),#15124), #15171=IfcRelDefinesByProperties('2rF$g0UZGGPpjaTWxrJdtz',#12,$,$,(#15042),#15169), #15231=IfcRelDefinesByProperties('3Q0nMR5elnJFWzAhgkZqe1',#12,$,$,(#15042),#15229))\n",
            "#15082=IfcRelDefinesByProperties('1XHlCNqAFH0tlvMzR6N0fY',#12,$,$,(#15042),#15079)\n",
            "#15090=IfcRelDefinesByProperties('28j1CHGQqsg8bOIv_AhSyO',#12,$,$,(#15042),#15087)\n",
            "#15157=IfcRelDefinesByProperties('16oiHR3wk3Xm_oKuvXa7iw',#12,$,$,(#15042),#15124)\n",
            "#15171=IfcRelDefinesByProperties('2rF$g0UZGGPpjaTWxrJdtz',#12,$,$,(#15042),#15169)\n",
            "#15231=IfcRelDefinesByProperties('3Q0nMR5elnJFWzAhgkZqe1',#12,$,$,(#15042),#15229)\n"
          ]
        }
      ]
    },
    {
      "cell_type": "markdown",
      "source": [
        "So we have made a function to export individual building element.\n",
        "However, as we use the traverse function, we do not get the property from other relationship\n",
        "Lets back to the main goal of this notebook, which is to translate ifc4 into ifc5\n"
      ],
      "metadata": {
        "id": "2ovuew9Y-h8N"
      }
    },
    {
      "cell_type": "code",
      "source": [
        "# Create a script to also add custom propety\n",
        "# Here propety value has to be of an ifc type, for example IFCREAL(304.00) or IFC Integer\n",
        "\n",
        "def set_property (model, entity, property_name,property_value, property_type = \"IFCPROPERTYSINGLEVALUE\"):\n",
        "\n",
        "  #Here propety value has to be of an ifc type, for example IFCREAL(304.00) or IFC Integer\n",
        "  # For type safty in the future, might need to add conversion\n",
        "  NominalValue =real_value = model.create_entity(\"IfcReal\", property_value)\n",
        "\n",
        "  # Create the Value object and the property object that links the two\n",
        "  new_property = model.create_entity(property_type, Name = property_name, NominalValue = NominalValue )\n",
        "  property_set = model.create_entity(\"IfcPropertySet\", GlobalId=ifcopenshell.guid.new(), Name=f\"{property_name}_set\", HasProperties = [new_property])\n",
        "\n",
        "  # Create Relational Instance\n",
        "  model.create_entity(\n",
        "        \"IfcRelDefinesByProperties\",\n",
        "        GlobalId=f\"NEW_REL_{ifcopenshell.guid.new()}\",\n",
        "        RelatingPropertyDefinition=property_set,\n",
        "        RelatedObjects=[entity]\n",
        "    )\n",
        "  return entity\n",
        "\n",
        "\n",
        "wall = model.by_type(\"ifcwall\")[0]\n",
        "\n",
        "\n",
        "# Set Propety\n",
        "wall = set_property(model, wall, property_name = \"hahaha\", property_value = 500)\n",
        "\n",
        "# Check if the NEW_REL relationship is created\n",
        "# for rel in wall.IsDefinedBy:\n",
        "#   print(rel.GlobalId)\n",
        "\n",
        "\n",
        "#try travesing the wall\n",
        "graph = model.traverse(wall)\n",
        "\n",
        "# Lets get the model and see if it has such property as sometimes in BIM viewers such property are not here\n",
        "create_ifc_for_partial_model(wall, save_props = True)"
      ],
      "metadata": {
        "colab": {
          "base_uri": "https://localhost:8080/"
        },
        "id": "7Xa6pQTZ6ihx",
        "outputId": "00c8f1f9-2717-44a3-e840-5bf084f8dafc"
      },
      "execution_count": null,
      "outputs": [
        {
          "output_type": "execute_result",
          "data": {
            "text/plain": [
              "<ifcopenshell.file.file at 0x7ef28420a690>"
            ]
          },
          "metadata": {},
          "execution_count": 18
        }
      ]
    },
    {
      "cell_type": "markdown",
      "source": [
        "# IFC4 to IFC5 Converter\n",
        "\n",
        "GREAT ! So we have succefully exported ifc elements from a larger file but also save all the previous properties !\n",
        "Lets go back to our main quest, which is translating ifc4 to ifc5 !!!"
      ],
      "metadata": {
        "id": "drN8oOgizT6f"
      }
    },
    {
      "cell_type": "code",
      "source": [
        "# First lets set up and revise some basic class prims for ifc5\n",
        "export = [\n",
        "    {\n",
        "        \"disclaimaer\":\"MeowMeowIFC\"\n",
        "    }\n",
        "]\n",
        "\n",
        "ifc5_type = [\"UsdGeom:Mesh\",\"UsdGeom:Xform\", \"UsdGeom:Mesh\",\"UsdGeom:BasisCurves\", \"UsdShade:Material\", \"UsdShade:Shader\"]\n",
        "\n",
        "# IFC5 uses a proxy later as UsdGeom:Xform\n",
        "ifc5_class = {\n",
        "\n",
        "  \"def\": \"class\",\n",
        "  \"type\": \"\",\n",
        "  \"name\": \"\",\n",
        "  \"children\":[],\n",
        "}\n",
        "\n",
        "ifc5_over = {\n",
        "\n",
        "  \"def\": \"over\",\n",
        "  \"name\": \"\",\n",
        "  \"attributes\":{}\n",
        "}\n",
        "\n",
        "ifc5_def = {\n",
        "\n",
        "  \"def\": \"def\",\n",
        "  \"type\":\"\",\n",
        "  \"name\": \"\",\n",
        "  \"inherits\":[]\n",
        "}\n",
        "\n",
        "# Lets start from the simple IFC file we got from the new_model.\n",
        "test_model = ifcopenshell.open(\"new_model.ifc\")"
      ],
      "metadata": {
        "id": "XfLR78ZIzZqx"
      },
      "execution_count": null,
      "outputs": []
    },
    {
      "cell_type": "markdown",
      "source": [
        "We begin traversing the model but we would like to create a function so that as we traverse, we also create an USD/ifc5 object\n",
        "and at each node we create the graph structure as we traverse and then push it into a result :)"
      ],
      "metadata": {
        "id": "ejZ6SG_yzw4a"
      }
    },
    {
      "cell_type": "markdown",
      "source": [
        "A lot of conversion are not known yet in ifc5,\n",
        "so I at the end decided not to translate all of the property for over as I dont know what is the name tag for those attributes.\n",
        "But I want to at least translate the geometry"
      ],
      "metadata": {
        "id": "7DkYhL8eIG74"
      }
    },
    {
      "cell_type": "code",
      "source": [
        "# Use ifc geom util to create shape\n",
        "# Getting Geometric information is much easier using.\n",
        "\n",
        "settings = ifcopenshell.geom.settings()\n",
        "\n",
        "shape = ifcopenshell.geom.create_shape(settings, wall)\n",
        "\n",
        "# points are local coordinate\n",
        "points  = ifcopenshell.util.shape.get_vertices(shape.geometry)\n",
        "grouped_edges = ifcopenshell.util.shape.get_edges(shape.geometry)\n",
        "\n",
        "\n",
        "# Some information are useful in ifc5\n",
        "T_matrix = ifcopenshell.util.shape.get_shape_matrix(shape)\n",
        "face_vertex_index = shape.geometry.faces\n",
        "\n",
        "# Note that global coordinate could be dervied from grouped_verts.hstack(1) XT_matrix Tranpose\n",
        "\n",
        "print(T_matrix)\n",
        "print(grouped_verts)\n",
        "print(face_vertex_index)"
      ],
      "metadata": {
        "colab": {
          "base_uri": "https://localhost:8080/"
        },
        "id": "0vWIw9xSML4I",
        "outputId": "fd186801-4e15-4480-e667-f58b19450028"
      },
      "execution_count": null,
      "outputs": [
        {
          "output_type": "stream",
          "name": "stdout",
          "text": [
            "[[1.   0.   0.   7.41]\n",
            " [0.   1.   0.   4.25]\n",
            " [0.   0.   1.   0.  ]\n",
            " [0.   0.   0.   1.  ]]\n",
            "[[ 0.   -0.24  0.  ]\n",
            " [ 0.   -0.24  2.5 ]\n",
            " [ 4.29 -0.24  2.5 ]\n",
            " [ 4.29 -0.24  0.  ]\n",
            " [ 4.29  0.    2.5 ]\n",
            " [ 4.29  0.    0.  ]\n",
            " [ 0.24  0.    2.5 ]\n",
            " [ 0.24  0.    0.  ]]\n",
            "(1, 0, 3, 2, 1, 3, 2, 3, 5, 4, 2, 5, 4, 5, 7, 6, 4, 7, 6, 7, 0, 1, 6, 0, 0, 7, 3, 3, 7, 5, 2, 6, 1, 4, 6, 2)\n"
          ]
        }
      ]
    },
    {
      "cell_type": "code",
      "source": [
        "import numpy as np\n",
        "# Global Coordinate just for fun\n",
        "ones = np.ones(shape = (grouped_verts.shape[0],1))\n",
        "stacked = np.hstack((grouped_verts, ones))\n",
        "\n",
        "global_coor = stacked@ T_matrix.T\n",
        "global_coor\n",
        "\n",
        "# You just need to drop the last column if you want\n",
        "global_coor = global_coor[:,0:-1]\n",
        "\n",
        "global_coor"
      ],
      "metadata": {
        "colab": {
          "base_uri": "https://localhost:8080/"
        },
        "id": "6K7zk6Mge6Qd",
        "outputId": "cb23d04e-948d-4b55-8c5b-48073f993b6b"
      },
      "execution_count": null,
      "outputs": [
        {
          "output_type": "execute_result",
          "data": {
            "text/plain": [
              "array([[ 7.41,  4.01,  0.  ],\n",
              "       [ 7.41,  4.01,  2.5 ],\n",
              "       [11.7 ,  4.01,  2.5 ],\n",
              "       [11.7 ,  4.01,  0.  ],\n",
              "       [11.7 ,  4.25,  2.5 ],\n",
              "       [11.7 ,  4.25,  0.  ],\n",
              "       [ 7.65,  4.25,  2.5 ],\n",
              "       [ 7.65,  4.25,  0.  ]])"
            ]
          },
          "metadata": {},
          "execution_count": 21
        }
      ]
    },
    {
      "cell_type": "code",
      "source": [
        "# Lets turn the geometry information into a function\n",
        "def get_geometry_info(entity):\n",
        "  settings = ifcopenshell.geom.settings()\n",
        "  shape = ifcopenshell.geom.create_shape(settings, entity)\n",
        "  points  = ifcopenshell.util.shape.get_vertices(shape.geometry)\n",
        "  T_matrix = ifcopenshell.util.shape.get_shape_matrix(shape)\n",
        "  faceVertexIndices = list(shape.geometry.faces)\n",
        "  return T_matrix, points, faceVertexIndices"
      ],
      "metadata": {
        "id": "E8Wc4yuRlYmz"
      },
      "execution_count": null,
      "outputs": []
    },
    {
      "cell_type": "code",
      "source": [
        "get_geometry_info(wall)"
      ],
      "metadata": {
        "colab": {
          "base_uri": "https://localhost:8080/"
        },
        "id": "VxUZD-jW2AqL",
        "outputId": "a4068f6b-af89-4b32-e56d-82c8cdbf0b74"
      },
      "execution_count": null,
      "outputs": [
        {
          "output_type": "execute_result",
          "data": {
            "text/plain": [
              "(array([[1.  , 0.  , 0.  , 7.41],\n",
              "        [0.  , 1.  , 0.  , 4.25],\n",
              "        [0.  , 0.  , 1.  , 0.  ],\n",
              "        [0.  , 0.  , 0.  , 1.  ]]),\n",
              " array([[ 0.  , -0.24,  0.  ],\n",
              "        [ 0.  , -0.24,  2.5 ],\n",
              "        [ 4.29, -0.24,  2.5 ],\n",
              "        [ 4.29, -0.24,  0.  ],\n",
              "        [ 4.29,  0.  ,  2.5 ],\n",
              "        [ 4.29,  0.  ,  0.  ],\n",
              "        [ 0.24,  0.  ,  2.5 ],\n",
              "        [ 0.24,  0.  ,  0.  ]]),\n",
              " [1,\n",
              "  0,\n",
              "  3,\n",
              "  2,\n",
              "  1,\n",
              "  3,\n",
              "  2,\n",
              "  3,\n",
              "  5,\n",
              "  4,\n",
              "  2,\n",
              "  5,\n",
              "  4,\n",
              "  5,\n",
              "  7,\n",
              "  6,\n",
              "  4,\n",
              "  7,\n",
              "  6,\n",
              "  7,\n",
              "  0,\n",
              "  1,\n",
              "  6,\n",
              "  0,\n",
              "  0,\n",
              "  7,\n",
              "  3,\n",
              "  3,\n",
              "  7,\n",
              "  5,\n",
              "  2,\n",
              "  6,\n",
              "  1,\n",
              "  4,\n",
              "  6,\n",
              "  2])"
            ]
          },
          "metadata": {},
          "execution_count": 23
        }
      ]
    },
    {
      "cell_type": "code",
      "source": [
        "wall = model.by_type(\"ifcwall\")[0]\n",
        "site = new_model.by_type(\"ifcsite\")[0]\n",
        "print(wall.IsDefinedBy)"
      ],
      "metadata": {
        "colab": {
          "base_uri": "https://localhost:8080/"
        },
        "id": "5bjnX7sTkaTV",
        "outputId": "166ced21-64fe-4adb-d607-83b1f2a166b7"
      },
      "execution_count": null,
      "outputs": [
        {
          "output_type": "stream",
          "name": "stdout",
          "text": [
            "(#15082=IfcRelDefinesByProperties('1XHlCNqAFH0tlvMzR6N0fY',#12,$,$,(#15042),#15079), #15090=IfcRelDefinesByProperties('28j1CHGQqsg8bOIv_AhSyO',#12,$,$,(#15042),#15087), #15157=IfcRelDefinesByProperties('16oiHR3wk3Xm_oKuvXa7iw',#12,$,$,(#15042),#15124), #15171=IfcRelDefinesByProperties('2rF$g0UZGGPpjaTWxrJdtz',#12,$,$,(#15042),#15169), #15231=IfcRelDefinesByProperties('3Q0nMR5elnJFWzAhgkZqe1',#12,$,$,(#15042),#15229), #79110=IfcRelDefinesByProperties('NEW_REL_1Zs1lK3Y9EpwZ_RkccJLb$',$,$,$,(#15042),#79109))\n"
          ]
        }
      ]
    },
    {
      "cell_type": "code",
      "source": [
        "for rep in wall.Representation.Representations:\n",
        "  print(rep)\n",
        "\n",
        "# print( wall.Representation.Representations[0].Items[0].Position.Location)\n",
        "# print( wall.Representation.Representations[0].Items[0].Position.Axis)\n",
        "# print( wall.Representation.Representations[0].Items[0].Position.RefDirection)\n",
        "\n",
        "Axis = [wall.Representation.Representations[0].Items[0].Position.Location.Coordinates,\n",
        "wall.Representation.Representations[0].Items[0].Position.Location.Coordinates]\n",
        "\n",
        "Axis"
      ],
      "metadata": {
        "colab": {
          "base_uri": "https://localhost:8080/"
        },
        "id": "UgH2MeLSoePU",
        "outputId": "272fa41b-a774-43e1-a4a2-0f478c8a643f"
      },
      "execution_count": null,
      "outputs": [
        {
          "output_type": "stream",
          "name": "stdout",
          "text": [
            "#15016=IfcShapeRepresentation(#118,'Body','SweptSolid',(#15006))\n",
            "#15024=IfcShapeRepresentation(#375,'Box','BoundingBox',(#15023))\n",
            "#15033=IfcShapeRepresentation(#15026,'Axis','Curve2D',(#15031))\n"
          ]
        },
        {
          "output_type": "execute_result",
          "data": {
            "text/plain": [
              "[(0.0, 0.0, 0.0), (0.0, 0.0, 0.0)]"
            ]
          },
          "metadata": {},
          "execution_count": 25
        }
      ]
    },
    {
      "cell_type": "code",
      "source": [
        "# We begin traversing the model but we would like to create a function so that as we traverse, we also create an USD/ifc5 object\n",
        "# and at each node we create the graph structure as we traverse and then push it into a result :)\n",
        "# I will also break down the functon into subfunction in the future\n",
        "\n",
        "# 1. Lets modify the previous bfs function, alternatively we could also modify the dfs but i want to keep a bit of a hierarchical structure so i chose BFS\n",
        "\n",
        "def build_graph(node, prev= None, get_props = True):\n",
        "\n",
        "  # For each node, ifc5 has a proxy layer to wrap around it so lets also create it first!\n",
        "  # Here children is more in a sptial way while inherits is more in programming way for inheriting characterisitcs\n",
        "  # For example, in case of project, the children will be site, then building, then storey etc....\n",
        "\n",
        "\n",
        "  ifc5_current_class = {\n",
        "  \"def\": \"class\",\n",
        "  \"type\": \"UsdGeom:Xform\",\n",
        "  \"name\": f\"MEOW_{ifcopenshell.guid.new()}\",\n",
        "  \"children\":[],\n",
        "  }\n",
        "\n",
        "  # Turn current node into an JSON/ USD Object first\n",
        "  # Inherits of def object is also put in </>.\n",
        "  ifc5_current_def = {\n",
        "    \"def\": \"def\",\n",
        "    \"type\":\"UsdGeom:Xform\",\n",
        "    \"name\": node.Name,\n",
        "    \"inherits\":[f\"</{ifc5_current_class['name']}>\"]\n",
        "    }\n",
        "\n",
        "  if prev:\n",
        "    prev[\"children\"].append(ifc5_current_def)\n",
        "    print(prev)\n",
        "\n",
        "  # Create Overlaying layers for adding information\n",
        "  # over itself takes on the same name as the class it is overlaied to\n",
        "  # I noticed that here the classname for wall is IfcWallStandardCase but its changed to wall so it might need extra conversion\n",
        "  # Lets figure out how to solve this later la sigh so stupid\n",
        "  # THe first over is a inheritance from the standard ifc object type propoerties\n",
        "  ifc5_over = {\n",
        "  \"def\": \"over\",\n",
        "  \"name\": ifc5_current_class['name'],\n",
        "  \"attributes\":{\n",
        "      \"ifc5:class\":{\n",
        "          \"code\":node.is_a(),\n",
        "          \"uri\":f\"https://identifier.buildingsmart.org/uri/buildingsmart/ifc/4.3/class/{node.is_a()}\"\n",
        "      }\n",
        "    }\n",
        "  }\n",
        "\n",
        "  export = [ifc5_current_class, ifc5_current_def, ifc5_over]\n",
        "\n",
        "  # Get all the props for other overlaying layers\n",
        "  # this part is not fully done because I see that some attibutes in fact change their names\n",
        "  # but i have no idea where to find new names and the conversion :(\n",
        "  # So lets use the old attribute for now\n",
        "  if get_props and hasattr(node, \"IsDefinedBy\"):\n",
        "    for prop in node.IsDefinedBy:\n",
        "      prop_over = {\n",
        "        \"def\": \"over\",\n",
        "        \"name\": ifc5_current_class['name'],\n",
        "        \"attributes\":{}\n",
        "      }\n",
        "      export.append(prop_over)\n",
        "\n",
        "  # Get Geometric Information\n",
        "  if hasattr(node, \"Representation\"):\n",
        "    if node.Representation != None:\n",
        "      T_matrix, points, faceVertexIndices = get_geometry_info(node)\n",
        "      conveter = {\n",
        "          \"Body\":{\n",
        "              \"name\":\"UsdGeom:Mesh\",\n",
        "              \"attributes\":{\n",
        "                  \"faceVertexIndices\":faceVertexIndices,\n",
        "                  \"points\":points.tolist()\n",
        "              }\n",
        "          }\n",
        "      }\n",
        "\n",
        "      # Base Overlay for coordinate\n",
        "      ifc_geo_base_over = {\n",
        "          \"def\": \"over\",\n",
        "          \"name\": ifc5_current_class['name'],\n",
        "          \"attributes\":{\n",
        "            \"xformOp\": {\n",
        "            \"transform\": T_matrix.tolist()\n",
        "          }\n",
        "        }\n",
        "      }\n",
        "\n",
        "      export.append(ifc_geo_base_over)\n",
        "\n",
        "\n",
        "      # No need to translate all of them ? like Box you dont need to translate\n",
        "      # For wall they break it down to multiple sublayers\n",
        "      # for rep in node.Representation.Representations:\n",
        "      #   if rep.RepresentationIdentifier in conveter:\n",
        "      #     ifc5_geo_def = {\n",
        "      #       \"def\": \"def\",\n",
        "      #       \"type\":conveter[rep.RepresentationIdentifier][\"name\"],\n",
        "      #       \"name\": rep.RepresentationIdentifier,\n",
        "      #       \"inherits\":[f\"</{ifc5_current_class['name']}_{rep.RepresentationIdentifier}>\"]\n",
        "      #     }\n",
        "      #     ifc5_geo_class = {\n",
        "      #         \"def\": \"class\",\n",
        "      #         \"type\": conveter[rep.RepresentationIdentifier][\"name\"],\n",
        "      #         \"name\": f\"{ifc5_current_class['name']}_{rep.RepresentationIdentifier}\",\n",
        "      #     }\n",
        "      #     ifc5_geo_over = {\n",
        "      #         \"def\": \"over\",\n",
        "      #         \"name\": f\"{ifc5_current_class['name']}_{rep.RepresentationIdentifier}\",\n",
        "      #         \"attributes\":conveter[rep.RepresentationIdentifier][\"attributes\"]\n",
        "      #     }\n",
        "      #     export.extend([ifc5_geo_def, ifc5_geo_class, ifc5_geo_over])\n",
        "\n",
        "  return export\n",
        "\n",
        "\n"
      ],
      "metadata": {
        "id": "QeB4tZm2zuby"
      },
      "execution_count": null,
      "outputs": []
    },
    {
      "cell_type": "code",
      "source": [
        "from collections import deque\n",
        "\n",
        "\n",
        "def bfs_traverse_build(base_node, list_contained_elements = True):\n",
        "\n",
        "  queue = deque([base_node])\n",
        "  depth = 0\n",
        "  prev = None\n",
        "  out_Js = []\n",
        "\n",
        "  while len(queue) !=0 :\n",
        "\n",
        "    current_node = queue.popleft()\n",
        "    print(f\"CURRENT DEPTH : {depth} [TYPE] {current_node.is_a()} [GUID] ({current_node.GlobalId}) [NAME] {current_node.Name}\")\n",
        "\n",
        "    export = build_graph(current_node, prev= prev, get_props = True)\n",
        "    prev = export[0]\n",
        "\n",
        "    if hasattr(current_node, \"ContainsElements\") and len(current_node.ContainsElements) != 0:\n",
        "      for element_rel in current_node.ContainsElements:\n",
        "        print(f\"Contained Elements: {len(element_rel.RelatedElements)}\")\n",
        "        if list_contained_elements:\n",
        "          for child_element in element_rel.RelatedElements:\n",
        "            queue.append(child_element)\n",
        "\n",
        "    if hasattr(current_node, \"IsDecomposedBy\") and len(current_node.IsDecomposedBy) != 0:\n",
        "      depth +=1\n",
        "      for child_rel in current_node.IsDecomposedBy:\n",
        "        print(f\"Number of child: {len(child_rel.RelatedObjects)}\")\n",
        "        for child_obj in child_rel.RelatedObjects:\n",
        "          queue.append(child_obj)\n",
        "\n",
        "    out_Js += export\n",
        "\n",
        "\n",
        "  print(\"Function ended, No more spatial child\")\n",
        "\n",
        "  return out_Js\n",
        "\n",
        "\n",
        "base_node = new_model.by_type(\"ifcproject\")[0]\n",
        "out_Js = bfs_traverse_build(base_node, list_contained_elements = True)"
      ],
      "metadata": {
        "colab": {
          "base_uri": "https://localhost:8080/"
        },
        "id": "o31tfxplaCZX",
        "outputId": "d72ea64e-22f0-44f5-a576-efe2528c09ab"
      },
      "execution_count": null,
      "outputs": [
        {
          "output_type": "stream",
          "name": "stdout",
          "text": [
            "CURRENT DEPTH : 0 [TYPE] IfcProject [GUID] (1FODwMAQT3awaXWU8edTv4) [NAME] SampleIfcProject\n",
            "Number of child: 1\n",
            "CURRENT DEPTH : 1 [TYPE] IfcSite [GUID] (1lZu33ynXCyOEErokZetl7) [NAME] SampleIfcSite\n",
            "{'def': 'class', 'type': 'UsdGeom:Xform', 'name': 'MEOW_1OPPevFBn1kQuxFd$UWocL', 'children': [{'def': 'def', 'type': 'UsdGeom:Xform', 'name': 'SampleIfcSite', 'inherits': ['</MEOW_2OfvBL0OL3EfHzDCCEkZM$>']}]}\n",
            "Number of child: 1\n",
            "CURRENT DEPTH : 2 [TYPE] IfcBuilding [GUID] (202_ASN1v8neP$s2CAxmce) [NAME] SampleIfcBuilding\n",
            "{'def': 'class', 'type': 'UsdGeom:Xform', 'name': 'MEOW_2OfvBL0OL3EfHzDCCEkZM$', 'children': [{'def': 'def', 'type': 'UsdGeom:Xform', 'name': 'SampleIfcBuilding', 'inherits': ['</MEOW_1kjjQPVy1DnQ$2nDmCZdQA>']}]}\n",
            "Number of child: 1\n",
            "CURRENT DEPTH : 3 [TYPE] IfcBuildingStorey [GUID] (1EdZ4hsa5EjxHpmoK91Pm8) [NAME] SampleIfcBuildingStorey\n",
            "{'def': 'class', 'type': 'UsdGeom:Xform', 'name': 'MEOW_1kjjQPVy1DnQ$2nDmCZdQA', 'children': [{'def': 'def', 'type': 'UsdGeom:Xform', 'name': 'SampleIfcBuildingStorey', 'inherits': ['</MEOW_2NyElRRon9iBjyxfYcwYHX>']}]}\n",
            "Contained Elements: 1\n",
            "CURRENT DEPTH : 3 [TYPE] IfcWallStandardCase [GUID] (2XPyKWY018sA1ygZKgQPtU) [NAME] Wand-Int-ERDG-4\n",
            "{'def': 'class', 'type': 'UsdGeom:Xform', 'name': 'MEOW_2NyElRRon9iBjyxfYcwYHX', 'children': [{'def': 'def', 'type': 'UsdGeom:Xform', 'name': 'Wand-Int-ERDG-4', 'inherits': ['</MEOW_2YKNDmYUz1I8mXwEriOobI>']}]}\n",
            "Function ended, No more spatial child\n"
          ]
        }
      ]
    },
    {
      "cell_type": "code",
      "source": [
        "import json\n",
        "\n",
        "def export_to_json(data, file_path):\n",
        "    \"\"\"\n",
        "    Export a list of dictionaries to a JSON file.\n",
        "\n",
        "    Args:\n",
        "        data (list): List of dictionaries to export.\n",
        "        file_path (str): Path to the JSON file to save.\n",
        "\n",
        "    Returns:\n",
        "        None\n",
        "    \"\"\"\n",
        "    try:\n",
        "        with open(file_path, 'w') as json_file:\n",
        "            json.dump(data, json_file, indent=2,separators=(',', ':'))\n",
        "        print(f\"JSON file successfully saved to {file_path}\")\n",
        "    except Exception as e:\n",
        "        print(f\"An error occurred while exporting JSON: {e}\")\n",
        "\n",
        "\n",
        "export_to_json(out_Js, \"output.json\")\n"
      ],
      "metadata": {
        "colab": {
          "base_uri": "https://localhost:8080/"
        },
        "id": "RjNMCq8GxuwI",
        "outputId": "bc755967-436a-4f54-e523-68b4a3b69100"
      },
      "execution_count": null,
      "outputs": [
        {
          "output_type": "stream",
          "name": "stdout",
          "text": [
            "JSON file successfully saved to output.json\n"
          ]
        }
      ]
    },
    {
      "cell_type": "markdown",
      "source": [
        "# Turning BIM data into Graph"
      ],
      "metadata": {
        "id": "_vzpWV3dD5wM"
      }
    },
    {
      "cell_type": "markdown",
      "source": [
        "I notice that while I translated the file to ifc5 format, the online ifc5 viewer is unable to view it and has some weird iterations on the file.\n",
        "Unsure how to furhter better my code, I decide to work on a new project which is to translate different components in to spatial graph\n",
        "aka to ask the queston:\n",
        "what are connected to the current building element I am at ?"
      ],
      "metadata": {
        "id": "dmCTKr5CA70R"
      }
    },
    {
      "cell_type": "code",
      "source": [
        "class SpatialGraph:\n",
        "  def __init__(self):\n",
        "      self.nodes = []\n",
        "      self.sizes = 0\n",
        "\n",
        "\n",
        "class Nodes:\n",
        "  def __init(self):\n",
        "    self.connected = []\n",
        "    return\n",
        "\n"
      ],
      "metadata": {
        "id": "ITBEcJ36A7Rk"
      },
      "execution_count": null,
      "outputs": []
    },
    {
      "cell_type": "code",
      "source": [
        "# Check if object are touching each other\n",
        "\n",
        "\n",
        "# Iterate through the IFC spatial structure  Project> Site > Building > Storey\n",
        "from collections import deque\n",
        "\n",
        "\n",
        "def bfs_traverse(base_node, list_contained_elements = True):\n",
        "\n",
        "\n",
        "  queue = deque([base_node])\n",
        "  depth = 0\n",
        "\n",
        "  while len(queue) !=0 :\n",
        "\n",
        "    current_node = queue.popleft()\n",
        "    print(f\"CURRENT DEPTH : {depth} [TYPE] {current_node.is_a()} [GUID] ({current_node.GlobalId}) [NAME] {current_node.Name}\")\n",
        "\n",
        "\n",
        "    if hasattr(current_node, \"ContainsElements\") and len(current_node.ContainsElements) != 0:\n",
        "      for element_rel in current_node.ContainsElements:\n",
        "        print(f\"Contained Elements: {len(element_rel.RelatedElements)}\")\n",
        "        if list_contained_elements:\n",
        "          for child_element in element_rel.RelatedElements:\n",
        "            queue.append(child_element)\n",
        "\n",
        "    if hasattr(current_node, \"IsDecomposedBy\") and len(current_node.IsDecomposedBy) != 0:\n",
        "      depth +=1\n",
        "      for child_rel in current_node.IsDecomposedBy:\n",
        "        print(f\"Number of child: {len(child_rel.RelatedObjects)}\")\n",
        "        for child_obj in child_rel.RelatedObjects:\n",
        "          queue.append(child_obj)\n",
        "\n",
        "\n",
        "\n",
        "  print(\"Function ended, No more spatial child\")\n",
        "\n",
        "site = model.by_type(\"IfcBuilding\")[0]\n",
        "\n",
        "bfs_traverse(site, list_contained_elements = False)"
      ],
      "metadata": {
        "colab": {
          "base_uri": "https://localhost:8080/"
        },
        "id": "hyzcvXphDrhk",
        "outputId": "0eee8465-7510-4f78-dda4-56e9ccfbcb68"
      },
      "execution_count": null,
      "outputs": [
        {
          "output_type": "stream",
          "name": "stdout",
          "text": [
            "CURRENT DEPTH : 0 [TYPE] IfcBuilding [GUID] (2hQBAVPOr5VxhS3Jl0O47h) [NAME] FZK-Haus\n",
            "Number of child: 2\n",
            "CURRENT DEPTH : 1 [TYPE] IfcBuildingStorey [GUID] (2eyxpyOx95m90jmsXLOuR0) [NAME] Erdgeschoss\n",
            "Contained Elements: 38\n",
            "Number of child: 6\n",
            "CURRENT DEPTH : 2 [TYPE] IfcBuildingStorey [GUID] (273g3wqLzDtfYIl7qqkgcO) [NAME] Dachgeschoss\n",
            "Contained Elements: 58\n",
            "Number of child: 1\n",
            "CURRENT DEPTH : 3 [TYPE] IfcSpace [GUID] (347jFE2yX7IhCEIALmupEH) [NAME] 4\n",
            "CURRENT DEPTH : 3 [TYPE] IfcSpace [GUID] (0e_hbkIQ5DMQlIJ$2V3j_m) [NAME] 3\n",
            "CURRENT DEPTH : 3 [TYPE] IfcSpace [GUID] (2RSCzLOBz4FAK$_wE8VckM) [NAME] 2\n",
            "CURRENT DEPTH : 3 [TYPE] IfcSpace [GUID] (0Lt8gR_E9ESeGH5uY_g9e9) [NAME] 5\n",
            "CURRENT DEPTH : 3 [TYPE] IfcSpace [GUID] (3$f2p7VyLB7eox67SA_zKE) [NAME] 1\n",
            "CURRENT DEPTH : 3 [TYPE] IfcSpace [GUID] (17JZcMFrf5tOftUTidA0d3) [NAME] 6\n",
            "CURRENT DEPTH : 3 [TYPE] IfcSpace [GUID] (2dQFggKBb1fOc1CqZDIDlx) [NAME] 7\n",
            "Function ended, No more spatial child\n"
          ]
        }
      ]
    },
    {
      "cell_type": "code",
      "source": [
        "wall1 = model.by_type(\"ifcwall\")[0]\n",
        "wall2 = model.by_type(\"ifcwall\")[1]"
      ],
      "metadata": {
        "id": "2QccyIkDJb8C"
      },
      "execution_count": null,
      "outputs": []
    },
    {
      "cell_type": "code",
      "source": [
        "# check if two volumes are touching => share vertex / face => meaning one of the face of ObjA and objB are linearly dependent\n",
        "\n",
        "# Lets turn the geometry information into a function\n",
        "def test_intersection(entity):\n",
        "  settings = ifcopenshell.geom.settings()\n",
        "  shape = ifcopenshell.geom.create_shape(settings, entity)\n",
        "  faces  = ifcopenshell.util.shape.get_faces(shape.geometry)\n",
        "  T_matrix = ifcopenshell.util.shape.get_shape_matrix(shape)\n",
        "  faceVertexIndices = list(shape.geometry.faces)\n",
        "  return faces\n",
        "\n",
        "test_intersection(wall1)"
      ],
      "metadata": {
        "colab": {
          "base_uri": "https://localhost:8080/"
        },
        "id": "luaMnod3F0Aa",
        "outputId": "e1ededd9-2255-44ae-9f36-2794bd6f431d"
      },
      "execution_count": null,
      "outputs": [
        {
          "output_type": "execute_result",
          "data": {
            "text/plain": [
              "array([[1, 0, 3],\n",
              "       [2, 1, 3],\n",
              "       [2, 3, 5],\n",
              "       [4, 2, 5],\n",
              "       [4, 5, 7],\n",
              "       [6, 4, 7],\n",
              "       [6, 7, 0],\n",
              "       [1, 6, 0],\n",
              "       [0, 7, 3],\n",
              "       [3, 7, 5],\n",
              "       [2, 6, 1],\n",
              "       [4, 6, 2]], dtype=int32)"
            ]
          },
          "metadata": {},
          "execution_count": 48
        }
      ]
    },
    {
      "cell_type": "code",
      "source": [
        "test_intersection(wall2)"
      ],
      "metadata": {
        "colab": {
          "base_uri": "https://localhost:8080/"
        },
        "id": "JhEglTv5MXGE",
        "outputId": "5195a6cb-b8cf-424c-bac6-bd1cf36cff5e"
      },
      "execution_count": null,
      "outputs": [
        {
          "output_type": "execute_result",
          "data": {
            "text/plain": [
              "array([[ 2,  0,  7],\n",
              "       [ 7,  6,  3],\n",
              "       [ 2,  7,  3],\n",
              "       [ 7,  0,  1],\n",
              "       [ 6,  5,  4],\n",
              "       [ 3,  6,  4],\n",
              "       [ 0,  8,  9],\n",
              "       [ 1,  0,  9],\n",
              "       [10,  7,  1],\n",
              "       [ 9, 10,  1],\n",
              "       [11,  6,  7],\n",
              "       [10, 11,  7],\n",
              "       [12,  5,  6],\n",
              "       [11, 12,  6],\n",
              "       [ 5, 12, 13],\n",
              "       [ 5, 13,  4],\n",
              "       [ 3,  4, 13],\n",
              "       [14,  3, 13],\n",
              "       [14,  2,  3],\n",
              "       [14, 15,  2],\n",
              "       [15,  8,  0],\n",
              "       [ 2, 15,  0],\n",
              "       [14, 11, 10],\n",
              "       [11, 14, 13],\n",
              "       [11, 13, 12],\n",
              "       [14, 10, 15],\n",
              "       [10,  9,  8],\n",
              "       [15, 10,  8]], dtype=int32)"
            ]
          },
          "metadata": {},
          "execution_count": 49
        }
      ]
    },
    {
      "cell_type": "markdown",
      "source": [
        "ifc js =Y\n",
        "\n",
        "limitaton of ifc js ?\n",
        "ifc js component\n",
        "comminication =json\n",
        "\n",
        "communicte warning from back to front\n",
        "bottleneck is ifc is strcutured and have to use that structure to do the check\n",
        "\n",
        "different check rule\n",
        "in the orchestrator"
      ],
      "metadata": {
        "id": "-tS0ijpqgKOi"
      }
    },
    {
      "cell_type": "code",
      "source": [],
      "metadata": {
        "id": "Q7icTZ0ez1ht"
      },
      "execution_count": null,
      "outputs": []
    }
  ]
}